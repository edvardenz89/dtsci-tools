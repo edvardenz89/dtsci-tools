{
  "nbformat": 4,
  "nbformat_minor": 0,
  "metadata": {
    "kernelspec": {
      "display_name": "Python 3",
      "language": "python",
      "name": "python3"
    },
    "language_info": {
      "codemirror_mode": {
        "name": "ipython",
        "version": 3
      },
      "file_extension": ".py",
      "mimetype": "text/x-python",
      "name": "python",
      "nbconvert_exporter": "python",
      "pygments_lexer": "ipython3",
      "version": "3.7.5"
    },
    "colab": {
      "name": "mod-nivelamento-operacoes.ipynb",
      "provenance": []
    }
  },
  "cells": [
    {
      "cell_type": "markdown",
      "metadata": {
        "id": "EbmwbA6z6uJG",
        "colab_type": "text"
      },
      "source": [
        "# Variáveis e operações em python"
      ]
    },
    {
      "cell_type": "markdown",
      "metadata": {
        "id": "RY0JFytk6uJL",
        "colab_type": "text"
      },
      "source": [
        "## Variáveis em python"
      ]
    },
    {
      "cell_type": "markdown",
      "metadata": {
        "id": "6UMkysR-6uJP",
        "colab_type": "text"
      },
      "source": [
        "Define-se uma variável em python utilizando somente um sinal de igual (=). Variáveis em python aceitam vários tipos de dados diferentes."
      ]
    },
    {
      "cell_type": "code",
      "metadata": {
        "id": "xCOBCjpP6uJS",
        "colab_type": "code",
        "colab": {}
      },
      "source": [
        "## definindo a variável hello\n",
        "\n",
        "hello = 'Hello World!'"
      ],
      "execution_count": 0,
      "outputs": []
    },
    {
      "cell_type": "code",
      "metadata": {
        "id": "mUFR1uSQ6uJh",
        "colab_type": "code",
        "colab": {},
        "outputId": "08c5dd76-c8de-4e9a-862a-9bf8705d101a"
      },
      "source": [
        "## inspecionando a variável hello\n",
        "\n",
        "hello"
      ],
      "execution_count": 0,
      "outputs": [
        {
          "output_type": "execute_result",
          "data": {
            "text/plain": [
              "'Hello World!'"
            ]
          },
          "metadata": {
            "tags": []
          },
          "execution_count": 71
        }
      ]
    },
    {
      "cell_type": "code",
      "metadata": {
        "id": "SQO_lXBe6uJq",
        "colab_type": "code",
        "colab": {},
        "outputId": "f235ac79-6a00-4b9e-d530-3ff148a89a55"
      },
      "source": [
        "## inspecionando o tipo do dado que a variável bacon guarda\n",
        "\n",
        "type(hello)"
      ],
      "execution_count": 0,
      "outputs": [
        {
          "output_type": "execute_result",
          "data": {
            "text/plain": [
              "str"
            ]
          },
          "metadata": {
            "tags": []
          },
          "execution_count": 73
        }
      ]
    },
    {
      "cell_type": "code",
      "metadata": {
        "id": "PQ7sHcDD6uJx",
        "colab_type": "code",
        "colab": {}
      },
      "source": [
        "## definido a variável minha_segunda_variavel\n",
        "\n",
        "minha_segunda_variavel = 12"
      ],
      "execution_count": 0,
      "outputs": []
    },
    {
      "cell_type": "code",
      "metadata": {
        "id": "5CiR0bdm6uJ3",
        "colab_type": "code",
        "colab": {},
        "outputId": "c6086b41-b143-4d7d-f80e-8272292e8fee"
      },
      "source": [
        "## inspecionando a variável minha_segunda_variavel\n",
        "\n",
        "minha_segunda_variavel"
      ],
      "execution_count": 0,
      "outputs": [
        {
          "output_type": "execute_result",
          "data": {
            "text/plain": [
              "12"
            ]
          },
          "metadata": {
            "tags": []
          },
          "execution_count": 27
        }
      ]
    },
    {
      "cell_type": "code",
      "metadata": {
        "id": "fCc1BRCj6uJ9",
        "colab_type": "code",
        "colab": {},
        "outputId": "c5e7da71-6818-4f33-c5b9-7c13f57edac4"
      },
      "source": [
        "## inspecionando o tipo do dado que a variável minha_segunda_variável guarda\n",
        "\n",
        "type(minha_segunda_variavel)"
      ],
      "execution_count": 0,
      "outputs": [
        {
          "output_type": "execute_result",
          "data": {
            "text/plain": [
              "int"
            ]
          },
          "metadata": {
            "tags": []
          },
          "execution_count": 28
        }
      ]
    },
    {
      "cell_type": "code",
      "metadata": {
        "id": "CSRUg3Q46uKD",
        "colab_type": "code",
        "colab": {}
      },
      "source": [
        "## definindo a variável minha_terceira_variavel\n",
        "\n",
        "minha_terceira_variavel = 12.999"
      ],
      "execution_count": 0,
      "outputs": []
    },
    {
      "cell_type": "code",
      "metadata": {
        "id": "J769f09N6uKJ",
        "colab_type": "code",
        "colab": {},
        "outputId": "2908d052-6a37-41a4-c26c-3515179f542f"
      },
      "source": [
        "## inspecionando a variável minha_terceira_vairavel\n",
        "\n",
        "minha_terceira_variavel"
      ],
      "execution_count": 0,
      "outputs": [
        {
          "output_type": "execute_result",
          "data": {
            "text/plain": [
              "12.999"
            ]
          },
          "metadata": {
            "tags": []
          },
          "execution_count": 30
        }
      ]
    },
    {
      "cell_type": "code",
      "metadata": {
        "id": "-PKxqEUV6uKQ",
        "colab_type": "code",
        "colab": {},
        "outputId": "4a9f5456-c054-415b-94a4-220aaa3f9bcb"
      },
      "source": [
        "## inspecionando o tipo do dado que a variável minha_terceira_variável guarda\n",
        "\n",
        "type(minha_terceira_variavel)"
      ],
      "execution_count": 0,
      "outputs": [
        {
          "output_type": "execute_result",
          "data": {
            "text/plain": [
              "float"
            ]
          },
          "metadata": {
            "tags": []
          },
          "execution_count": 31
        }
      ]
    },
    {
      "cell_type": "markdown",
      "metadata": {
        "id": "6opnANbF6uKV",
        "colab_type": "text"
      },
      "source": [
        "Existe também a possibilidade de fazer várias atribuições ao mesmo tempo."
      ]
    },
    {
      "cell_type": "code",
      "metadata": {
        "id": "yL4H6Wu86uKX",
        "colab_type": "code",
        "colab": {}
      },
      "source": [
        "## definindo três variáveis altura, pe e peso\n",
        "\n",
        "altura, pe, peso = 171, 42, 120 "
      ],
      "execution_count": 0,
      "outputs": []
    },
    {
      "cell_type": "code",
      "metadata": {
        "id": "0CTXufg36uKc",
        "colab_type": "code",
        "colab": {},
        "outputId": "455bc07c-1ec9-4d3b-8313-220b29bb48ea"
      },
      "source": [
        "## inspecionando as três acima variáveis\n",
        "\n",
        "altura, pe, peso"
      ],
      "execution_count": 0,
      "outputs": [
        {
          "output_type": "execute_result",
          "data": {
            "text/plain": [
              "(171, 42, 120)"
            ]
          },
          "metadata": {
            "tags": []
          },
          "execution_count": 33
        }
      ]
    },
    {
      "cell_type": "code",
      "metadata": {
        "id": "yTfsh0QY6uKi",
        "colab_type": "code",
        "colab": {}
      },
      "source": [
        "altura = pe"
      ],
      "execution_count": 0,
      "outputs": []
    },
    {
      "cell_type": "code",
      "metadata": {
        "id": "iAHrLO7a6uKm",
        "colab_type": "code",
        "colab": {},
        "outputId": "7101985c-07e0-4ec4-c591-32f0b2ee0699"
      },
      "source": [
        "altura, pe, peso"
      ],
      "execution_count": 0,
      "outputs": [
        {
          "output_type": "execute_result",
          "data": {
            "text/plain": [
              "(42, 42, 120)"
            ]
          },
          "metadata": {
            "tags": []
          },
          "execution_count": 75
        }
      ]
    },
    {
      "cell_type": "markdown",
      "metadata": {
        "id": "hl397wxC6uKs",
        "colab_type": "text"
      },
      "source": [
        "## Operações com variáveis\n",
        "\n",
        "| operação      | exemplo |\n",
        "|:---------------:|:---------:|\n",
        "| adição        | a + b   |\n",
        "| subtração     | a - b   |\n",
        "| divisão       | a / b   |\n",
        "| multiplicação | a * b   |\n",
        "| potência      | a ** b  |\n",
        "| modulus(eng)  | a % b   |\n",
        "| floor(eng)    | a // b  |"
      ]
    },
    {
      "cell_type": "code",
      "metadata": {
        "id": "yVTmOzuL6uKt",
        "colab_type": "code",
        "colab": {}
      },
      "source": [
        "a = '3'\n",
        "b = [1,2,3]"
      ],
      "execution_count": 0,
      "outputs": []
    },
    {
      "cell_type": "code",
      "metadata": {
        "id": "Y5m9tSeW6uKx",
        "colab_type": "code",
        "colab": {
          "base_uri": "https://localhost:8080/",
          "height": 167
        },
        "outputId": "43a36843-48ae-42d6-ad12-1dca1ad15052"
      },
      "source": [
        "a + b"
      ],
      "execution_count": 31,
      "outputs": [
        {
          "output_type": "error",
          "ename": "TypeError",
          "evalue": "ignored",
          "traceback": [
            "\u001b[0;31m---------------------------------------------------------------------------\u001b[0m",
            "\u001b[0;31mTypeError\u001b[0m                                 Traceback (most recent call last)",
            "\u001b[0;32m<ipython-input-31-bd58363a63fc>\u001b[0m in \u001b[0;36m<module>\u001b[0;34m()\u001b[0m\n\u001b[0;32m----> 1\u001b[0;31m \u001b[0ma\u001b[0m \u001b[0;34m+\u001b[0m \u001b[0mb\u001b[0m\u001b[0;34m\u001b[0m\u001b[0;34m\u001b[0m\u001b[0m\n\u001b[0m",
            "\u001b[0;31mTypeError\u001b[0m: must be str, not list"
          ]
        }
      ]
    },
    {
      "cell_type": "code",
      "metadata": {
        "id": "KOeG0DXd6uK0",
        "colab_type": "code",
        "colab": {
          "base_uri": "https://localhost:8080/",
          "height": 167
        },
        "outputId": "6b5d8690-7615-4226-e83d-3242f6341ebb"
      },
      "source": [
        "a - b"
      ],
      "execution_count": 32,
      "outputs": [
        {
          "output_type": "error",
          "ename": "TypeError",
          "evalue": "ignored",
          "traceback": [
            "\u001b[0;31m---------------------------------------------------------------------------\u001b[0m",
            "\u001b[0;31mTypeError\u001b[0m                                 Traceback (most recent call last)",
            "\u001b[0;32m<ipython-input-32-09bd029d0285>\u001b[0m in \u001b[0;36m<module>\u001b[0;34m()\u001b[0m\n\u001b[0;32m----> 1\u001b[0;31m \u001b[0ma\u001b[0m \u001b[0;34m-\u001b[0m \u001b[0mb\u001b[0m\u001b[0;34m\u001b[0m\u001b[0;34m\u001b[0m\u001b[0m\n\u001b[0m",
            "\u001b[0;31mTypeError\u001b[0m: unsupported operand type(s) for -: 'str' and 'list'"
          ]
        }
      ]
    },
    {
      "cell_type": "code",
      "metadata": {
        "id": "dPs497cX6uK6",
        "colab_type": "code",
        "colab": {
          "base_uri": "https://localhost:8080/",
          "height": 167
        },
        "outputId": "82aff4a6-01d3-46b6-f4e3-b3013f15cc08"
      },
      "source": [
        "a / b"
      ],
      "execution_count": 33,
      "outputs": [
        {
          "output_type": "error",
          "ename": "TypeError",
          "evalue": "ignored",
          "traceback": [
            "\u001b[0;31m---------------------------------------------------------------------------\u001b[0m",
            "\u001b[0;31mTypeError\u001b[0m                                 Traceback (most recent call last)",
            "\u001b[0;32m<ipython-input-33-d8e10abd5ab6>\u001b[0m in \u001b[0;36m<module>\u001b[0;34m()\u001b[0m\n\u001b[0;32m----> 1\u001b[0;31m \u001b[0ma\u001b[0m \u001b[0;34m/\u001b[0m \u001b[0mb\u001b[0m\u001b[0;34m\u001b[0m\u001b[0;34m\u001b[0m\u001b[0m\n\u001b[0m",
            "\u001b[0;31mTypeError\u001b[0m: unsupported operand type(s) for /: 'str' and 'list'"
          ]
        }
      ]
    },
    {
      "cell_type": "code",
      "metadata": {
        "id": "4D9umwYR6uK_",
        "colab_type": "code",
        "colab": {
          "base_uri": "https://localhost:8080/",
          "height": 167
        },
        "outputId": "c81c8063-0f75-4b07-f545-2bd9f654390c"
      },
      "source": [
        "a * b"
      ],
      "execution_count": 34,
      "outputs": [
        {
          "output_type": "error",
          "ename": "TypeError",
          "evalue": "ignored",
          "traceback": [
            "\u001b[0;31m---------------------------------------------------------------------------\u001b[0m",
            "\u001b[0;31mTypeError\u001b[0m                                 Traceback (most recent call last)",
            "\u001b[0;32m<ipython-input-34-9bc1a869709f>\u001b[0m in \u001b[0;36m<module>\u001b[0;34m()\u001b[0m\n\u001b[0;32m----> 1\u001b[0;31m \u001b[0ma\u001b[0m \u001b[0;34m*\u001b[0m \u001b[0mb\u001b[0m\u001b[0;34m\u001b[0m\u001b[0;34m\u001b[0m\u001b[0m\n\u001b[0m",
            "\u001b[0;31mTypeError\u001b[0m: can't multiply sequence by non-int of type 'list'"
          ]
        }
      ]
    },
    {
      "cell_type": "code",
      "metadata": {
        "id": "vDwPcPzf6uLD",
        "colab_type": "code",
        "colab": {
          "base_uri": "https://localhost:8080/",
          "height": 167
        },
        "outputId": "bfedbf29-75ad-4744-a62f-fcea479d4998"
      },
      "source": [
        "a ** b"
      ],
      "execution_count": 35,
      "outputs": [
        {
          "output_type": "error",
          "ename": "TypeError",
          "evalue": "ignored",
          "traceback": [
            "\u001b[0;31m---------------------------------------------------------------------------\u001b[0m",
            "\u001b[0;31mTypeError\u001b[0m                                 Traceback (most recent call last)",
            "\u001b[0;32m<ipython-input-35-7c22c32c86c9>\u001b[0m in \u001b[0;36m<module>\u001b[0;34m()\u001b[0m\n\u001b[0;32m----> 1\u001b[0;31m \u001b[0ma\u001b[0m \u001b[0;34m**\u001b[0m \u001b[0mb\u001b[0m\u001b[0;34m\u001b[0m\u001b[0;34m\u001b[0m\u001b[0m\n\u001b[0m",
            "\u001b[0;31mTypeError\u001b[0m: unsupported operand type(s) for ** or pow(): 'str' and 'list'"
          ]
        }
      ]
    },
    {
      "cell_type": "code",
      "metadata": {
        "id": "MBKzzDvx6uLI",
        "colab_type": "code",
        "colab": {
          "base_uri": "https://localhost:8080/",
          "height": 34
        },
        "outputId": "58d256ac-48d1-40be-850b-184db4e27457"
      },
      "source": [
        "a % b"
      ],
      "execution_count": 36,
      "outputs": [
        {
          "output_type": "execute_result",
          "data": {
            "text/plain": [
              "'3'"
            ]
          },
          "metadata": {
            "tags": []
          },
          "execution_count": 36
        }
      ]
    },
    {
      "cell_type": "code",
      "metadata": {
        "id": "QPjzXcIr6uLL",
        "colab_type": "code",
        "colab": {
          "base_uri": "https://localhost:8080/",
          "height": 167
        },
        "outputId": "524534ed-934b-4d3c-8914-96fa6c8a7d69"
      },
      "source": [
        "a // b"
      ],
      "execution_count": 37,
      "outputs": [
        {
          "output_type": "error",
          "ename": "TypeError",
          "evalue": "ignored",
          "traceback": [
            "\u001b[0;31m---------------------------------------------------------------------------\u001b[0m",
            "\u001b[0;31mTypeError\u001b[0m                                 Traceback (most recent call last)",
            "\u001b[0;32m<ipython-input-37-d081371454f6>\u001b[0m in \u001b[0;36m<module>\u001b[0;34m()\u001b[0m\n\u001b[0;32m----> 1\u001b[0;31m \u001b[0ma\u001b[0m \u001b[0;34m//\u001b[0m \u001b[0mb\u001b[0m\u001b[0;34m\u001b[0m\u001b[0;34m\u001b[0m\u001b[0m\n\u001b[0m",
            "\u001b[0;31mTypeError\u001b[0m: unsupported operand type(s) for //: 'str' and 'list'"
          ]
        }
      ]
    },
    {
      "cell_type": "markdown",
      "metadata": {
        "id": "vPTI6Xqe6uLQ",
        "colab_type": "text"
      },
      "source": [
        "1 - Tente mudar as variáveis a e b acima para outros tipos de dado e veja quais operações funcionam;\n",
        "\n",
        "2 - Tente calcular o seu IMC utilizando somente operações matemáticas. Dica: o IMC é calculado da seguinte forma: IMC = peso / (altura em metros * altura em metros)\n",
        "\n",
        "3 - Resolva o exercício: Supondo que o valor de uma geladeira é de 250 reais, ao comprar com seu cartão de débito você obteve um desconto e, no final, pagou somente R$149,90. Qual foi seu desconto (em %)? Utiliza somente operações matemáticas em python.\n",
        "\n",
        "4 - Sua professora chata de português pediu para você escrever a frase 'português é maravilhoso' 50 vezes. Como resolver esse problema com python?\n",
        "\n",
        "5 - Um modelo de regressão linear possui a seguinte fórmula: y=0.253*x + 125. Qual será o valor de Y quando X for 125?\n",
        "\n",
        "6 - Qual é raiz cubica de 144? Utilize somente operações python apresentadas neste notebook.\n",
        "\n",
        "7 - Nossa matéria terá dois trabalhos! Os pesos são, respectivamente, 4 e 6. Imagine que você tenha tirado 8.2 no primeiro projeto e 3.3 no segundo projeto. Levando em consideração sua nota final e os pesos, você tirou uma média maior que 5?"
      ]
    },
    {
      "cell_type": "markdown",
      "metadata": {
        "id": "vE6FEdON7IRt",
        "colab_type": "text"
      },
      "source": [
        "<h4>1 - Tente mudar as variáveis a e b acima para outros tipos de dado e veja quais operações funcionam;</h4>\n",
        "<b>2 Float:</b> Todas operações funcionam<br>\n",
        "<b>2 String:</b> Somente soma funciona<br>\n",
        "<b>2 Listas:</b> Somente soma funciona<br>\n",
        "<b>1 Int e 1 String:</b> Somente multiplicação funciona<br>\n",
        "<b>1 Int e 1 Lista:</b> Somente multiplicaçãão funciona<br>\n",
        "<b>1 String e 1 Lista:</b> Somente 'resto' funciona<br>\n",
        "\n"
      ]
    },
    {
      "cell_type": "markdown",
      "metadata": {
        "id": "YjxxZGx98yqi",
        "colab_type": "text"
      },
      "source": [
        "<h4>2 - Tente calcular o seu IMC utilizando somente operações matemáticas. Dica: o IMC é calculado da seguinte forma: IMC = peso / (altura em metros * altura em metros)</h4>"
      ]
    },
    {
      "cell_type": "code",
      "metadata": {
        "id": "dXsTBkfI6uLW",
        "colab_type": "code",
        "colab": {
          "base_uri": "https://localhost:8080/",
          "height": 69
        },
        "outputId": "6cac1066-d866-4d47-9b84-19dceb09cb49"
      },
      "source": [
        "peso = float(input('Peso: '))\n",
        "altura = float(input('Altura: '))\n",
        "\n",
        "imc = peso / (altura * altura)\n",
        "\n",
        "print('Seu imc é {}'.format(imc))"
      ],
      "execution_count": 45,
      "outputs": [
        {
          "output_type": "stream",
          "text": [
            "Peso: 10\n",
            "Altura: 20\n",
            "Seu imc é 0.025\n"
          ],
          "name": "stdout"
        }
      ]
    },
    {
      "cell_type": "markdown",
      "metadata": {
        "id": "e2k9cAT3_qUt",
        "colab_type": "text"
      },
      "source": [
        "<h4>3 - Resolva o exercício: Supondo que o valor de uma geladeira é de 250 reais, ao comprar com seu cartão de débito você obteve um desconto e, no final, pagou somente R$149,90. Qual foi seu desconto (em %)? Utiliza somente operações matemáticas em python.</h4>"
      ]
    },
    {
      "cell_type": "code",
      "metadata": {
        "id": "5RPVvQWe_tp5",
        "colab_type": "code",
        "colab": {
          "base_uri": "https://localhost:8080/",
          "height": 34
        },
        "outputId": "3d8aef34-fd46-48ed-c03b-b38f330d25ff"
      },
      "source": [
        "valorGeladeira = 250\n",
        "valorPago = 149.90\n",
        "\n",
        "desconto = 100 - ((valorPago * 100) / valorGeladeira)\n",
        "\n",
        "print('O desconto foi de {}%'.format(desconto))"
      ],
      "execution_count": 46,
      "outputs": [
        {
          "output_type": "stream",
          "text": [
            "O desconto foi de 40.04%\n"
          ],
          "name": "stdout"
        }
      ]
    }
  ]
}