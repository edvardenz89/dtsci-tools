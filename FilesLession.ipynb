{
  "nbformat": 4,
  "nbformat_minor": 0,
  "metadata": {
    "colab": {
      "name": "Arquivos.ipynb",
      "provenance": [],
      "collapsed_sections": [],
      "authorship_tag": "ABX9TyObitQgUsPmhFsaMb5qJfc7"
    },
    "kernelspec": {
      "name": "python3",
      "display_name": "Python 3"
    }
  },
  "cells": [
    {
      "cell_type": "markdown",
      "metadata": {
        "id": "iu2U3m5GxjGi",
        "colab_type": "text"
      },
      "source": [
        "<h2>Leitura de Arquivos</h2>\n",
        "\n"
      ]
    },
    {
      "cell_type": "code",
      "metadata": {
        "id": "wIVBKpG6u-wS",
        "colab_type": "code",
        "colab": {
          "base_uri": "https://localhost:8080/",
          "height": 121
        },
        "outputId": "4a07591d-ab56-49a9-94bc-26cc8ad3f5cc"
      },
      "source": [
        "f = open('aula2.txt', 'r')\n",
        "conteudo = f.readlines()\n",
        "for i in conteudo:\n",
        "  print(i)"
      ],
      "execution_count": 13,
      "outputs": [
        {
          "output_type": "stream",
          "text": [
            "Nova linha escrita\n",
            "\n",
            "Nova linha escrita\n",
            "\n",
            "Nova linha escrita\n",
            "\n"
          ],
          "name": "stdout"
        }
      ]
    },
    {
      "cell_type": "markdown",
      "metadata": {
        "colab_type": "text",
        "id": "hEwePkfQx3XN"
      },
      "source": [
        "<h2>Escrever conteúdo no arquivo</h2>\n"
      ]
    },
    {
      "cell_type": "code",
      "metadata": {
        "colab_type": "code",
        "id": "yUWLU5ckx6eB",
        "colab": {}
      },
      "source": [
        "with open('aula2.txt', 'w') as f:\n",
        "  f.write(f'Nova linha escrita\\n')"
      ],
      "execution_count": 0,
      "outputs": []
    },
    {
      "cell_type": "markdown",
      "metadata": {
        "id": "KeJ3nbq6xp9V",
        "colab_type": "text"
      },
      "source": [
        "<h2>Adicionar conteúdo no arquivo</h2>\n"
      ]
    },
    {
      "cell_type": "code",
      "metadata": {
        "id": "SCfx86m7wIt2",
        "colab_type": "code",
        "colab": {}
      },
      "source": [
        "with open('aula2.txt', 'a') as f:\n",
        "  f.write(f'Nova linha escrita\\n')"
      ],
      "execution_count": 0,
      "outputs": []
    },
    {
      "cell_type": "markdown",
      "metadata": {
        "id": "snbOTHFoyu-6",
        "colab_type": "text"
      },
      "source": [
        "<h2>Leitura de CSV</h2>"
      ]
    },
    {
      "cell_type": "code",
      "metadata": {
        "id": "ftYxxpD7yyJQ",
        "colab_type": "code",
        "colab": {
          "base_uri": "https://localhost:8080/",
          "height": 903
        },
        "outputId": "7b094d50-ec35-402c-87eb-333e33f1c5f1"
      },
      "source": [
        "import csv\n",
        "\n",
        "with open('data.csv') as csv_file:\n",
        "  content_csv = csv.reader(csv_file,delimiter=',')\n",
        "\n",
        "  # Print next row of csv\n",
        "  print(next(content_csv))\n",
        "  \n",
        "  # Print others rows starting from current pointer (in this case, position 2 because next move foward the pointer reference)\n",
        "  for row in content_csv:\n",
        "    print(row)\n",
        "  \n",
        "  "
      ],
      "execution_count": 23,
      "outputs": [
        {
          "output_type": "stream",
          "text": [
            "['birthday']\n",
            "['5/1/1981']\n",
            "['9/20/1957']\n",
            "['6/16/1995']\n",
            "['2/11/1989']\n",
            "['1/6/1986']\n",
            "['5/23/1977']\n",
            "['8/31/1997']\n",
            "['6/14/1975']\n",
            "['5/17/1963']\n",
            "['12/9/1974']\n",
            "['8/6/1996']\n",
            "['8/8/2000']\n",
            "['12/5/1993']\n",
            "['6/27/1999']\n",
            "['11/29/1956']\n",
            "['3/9/1971']\n",
            "['8/28/1982']\n",
            "['10/2/1961']\n",
            "['10/2/1995']\n",
            "['8/23/1983']\n",
            "['11/13/1973']\n",
            "['4/3/1961']\n",
            "['4/12/1964']\n",
            "['11/2/1977']\n",
            "['6/13/1998']\n",
            "['11/9/1974']\n",
            "['8/20/1974']\n",
            "['7/3/1978']\n",
            "['3/1/1979']\n",
            "['5/31/1980']\n",
            "['6/23/2000']\n",
            "['9/22/1995']\n",
            "['11/30/1964']\n",
            "['12/16/1974']\n",
            "['12/1/1997']\n",
            "['2/19/1994']\n",
            "['6/23/1964']\n",
            "['11/29/1988']\n",
            "['9/21/1992']\n",
            "['9/30/1979']\n",
            "['5/30/1988']\n",
            "['8/3/1963']\n",
            "['1/4/1961']\n",
            "['2/10/1984']\n",
            "['11/21/1992']\n",
            "['6/15/1985']\n",
            "['2/12/1961']\n",
            "['8/27/1999']\n",
            "['8/15/1959']\n",
            "['9/10/1972']\n"
          ],
          "name": "stdout"
        }
      ]
    },
    {
      "cell_type": "markdown",
      "metadata": {
        "id": "JlAQzQPo8vpH",
        "colab_type": "text"
      },
      "source": [
        "<h2>Escreve em JSON</h2>"
      ]
    },
    {
      "cell_type": "code",
      "metadata": {
        "id": "khJx_OEQ8yLN",
        "colab_type": "code",
        "colab": {
          "base_uri": "https://localhost:8080/",
          "height": 34
        },
        "outputId": "755b7081-65d4-4dcf-d01e-0865dd05c781"
      },
      "source": [
        "import csv\n",
        "\n",
        "with open('writedata.csv', 'w') as csv_file:\n",
        "  content_csv = csv.writer(csv_file,delimiter=',',quotechar='\"')\n",
        "  content_csv.writerow(['Nome','Idade','Sexo'])\n",
        "  content_csv.writerow(['Edvard','31','Masculino'])\n",
        "  content_csv.writerow(['Giovanni','60','Não Sabe'])\n",
        "\n",
        "  print(content_csv)\n",
        "  \n",
        "  "
      ],
      "execution_count": 29,
      "outputs": [
        {
          "output_type": "stream",
          "text": [
            "<_csv.writer object at 0x7f1918dd2780>\n"
          ],
          "name": "stdout"
        }
      ]
    }
  ]
}