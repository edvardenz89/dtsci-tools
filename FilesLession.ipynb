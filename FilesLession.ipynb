{
  "nbformat": 4,
  "nbformat_minor": 0,
  "metadata": {
    "colab": {
      "name": "Arquivos.ipynb",
      "provenance": [],
      "authorship_tag": "ABX9TyM4DD5INCDHHz99byyGl4/w"
    },
    "kernelspec": {
      "name": "python3",
      "display_name": "Python 3"
    }
  },
  "cells": [
    {
      "cell_type": "markdown",
      "metadata": {
        "id": "iu2U3m5GxjGi",
        "colab_type": "text"
      },
      "source": [
        "<h2>Leitura de Arquivos</h2>\n",
        "\n"
      ]
    },
    {
      "cell_type": "code",
      "metadata": {
        "id": "wIVBKpG6u-wS",
        "colab_type": "code",
        "colab": {
          "base_uri": "https://localhost:8080/",
          "height": 121
        },
        "outputId": "4a07591d-ab56-49a9-94bc-26cc8ad3f5cc"
      },
      "source": [
        "f = open('aula2.txt', 'r')\n",
        "conteudo = f.readlines()\n",
        "for i in conteudo:\n",
        "  print(i)"
      ],
      "execution_count": 13,
      "outputs": [
        {
          "output_type": "stream",
          "text": [
            "Nova linha escrita\n",
            "\n",
            "Nova linha escrita\n",
            "\n",
            "Nova linha escrita\n",
            "\n"
          ],
          "name": "stdout"
        }
      ]
    },
    {
      "cell_type": "markdown",
      "metadata": {
        "colab_type": "text",
        "id": "hEwePkfQx3XN"
      },
      "source": [
        "<h2>Escrever conteúdo no arquivo</h2>\n"
      ]
    },
    {
      "cell_type": "code",
      "metadata": {
        "colab_type": "code",
        "id": "yUWLU5ckx6eB",
        "colab": {}
      },
      "source": [
        "with open('aula2.txt', 'w') as f:\n",
        "  f.write(f'Nova linha escrita\\n')"
      ],
      "execution_count": 0,
      "outputs": []
    },
    {
      "cell_type": "markdown",
      "metadata": {
        "id": "KeJ3nbq6xp9V",
        "colab_type": "text"
      },
      "source": [
        "<h2>Adicionar conteúdo no arquivo</h2>\n"
      ]
    },
    {
      "cell_type": "code",
      "metadata": {
        "id": "SCfx86m7wIt2",
        "colab_type": "code",
        "colab": {}
      },
      "source": [
        "with open('aula2.txt', 'a') as f:\n",
        "  f.write(f'Nova linha escrita\\n')"
      ],
      "execution_count": 0,
      "outputs": []
    }
  ]
}