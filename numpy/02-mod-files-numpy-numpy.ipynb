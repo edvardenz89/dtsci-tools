{
 "cells": [
  {
   "cell_type": "markdown",
   "metadata": {},
   "source": [
    "## Exercícios\n",
    "\n",
    "1 - Crie um array de uma dimensão chamado arr com todos os valores inteiros entre 1 e 50.\n",
    "\n",
    "2 - Usando o array criado acima multiple todos os valores impares por -1.\n",
    "\n",
    "3 - Transforme arr em um array de duas dimensões (dica, use reshape).\n",
    "\n",
    "4 - Descubra: a média, mediana, o desvio padrão, o valor do primeiro quartil, o valor do terceiro quartil e o IQR do array arr.\n",
    "\n",
    "5 - Encontre a média do array abaixo:\n",
    "\n",
    "arr2 = np.array([[12,12,12],[15,15,15],[20,20,20]])\n",
    "\n",
    "6 - Monte um código que transforme a lista abaixo em um array de duas dimensões. Depois disso ele deve substituir os valores na diagonal da matriz por zero.\n",
    "\n",
    "ls = [[3,3,3],[2,2,2],[1,1,1]]"
   ]
  }
 ],
 "metadata": {
  "kernelspec": {
   "display_name": "Python 3.7.5 64-bit ('base': conda)",
   "language": "python",
   "name": "python37564bitbaseconda1a5ffbacdca64cf4afc92f2f5ef3faed"
  },
  "language_info": {
   "codemirror_mode": {
    "name": "ipython",
    "version": 3
   },
   "file_extension": ".py",
   "mimetype": "text/x-python",
   "name": "python",
   "nbconvert_exporter": "python",
   "pygments_lexer": "ipython3",
   "version": "3.7.5"
  }
 },
 "nbformat": 4,
 "nbformat_minor": 4
}
