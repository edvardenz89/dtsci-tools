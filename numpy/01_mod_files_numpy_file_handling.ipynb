{
  "nbformat": 4,
  "nbformat_minor": 0,
  "metadata": {
    "kernelspec": {
      "display_name": "Python 3.7.5 64-bit ('miniconda3': virtualenv)",
      "language": "python",
      "name": "python37564bitminiconda3virtualenvaae6906fdf41426e8b8c7cdd03524cfb"
    },
    "language_info": {
      "codemirror_mode": {
        "name": "ipython",
        "version": 3
      },
      "file_extension": ".py",
      "mimetype": "text/x-python",
      "name": "python",
      "nbconvert_exporter": "python",
      "pygments_lexer": "ipython3",
      "version": "3.7.5"
    },
    "colab": {
      "name": "Copy of 01-mod-files-numpy-file-handling.ipynb",
      "provenance": []
    }
  },
  "cells": [
    {
      "cell_type": "markdown",
      "metadata": {
        "id": "NMktA2rb-9sL",
        "colab_type": "text"
      },
      "source": [
        "# Exercícios\n",
        "\n",
        "___\n",
        "\n",
        "1 - Execute as tarefas abaixo:\n",
        "\n",
        "* Crie um arquivo chamado 'predictions.txt' no modo de escrita;\n",
        "* Crie um código que execute as predições de um modelo, fictício, de regressão. Levando em consideração a seguinte fórmula f(x,y,z) = (122*x)+(-0.85*y)+(-39*z)+23;\n",
        "* Utilize o código acima para gerar predições utilizando a lista de listas abaixo:\n",
        "\n",
        "ls = [[12,12,19],[17,15,5],[25,13,13],[15,15,15],[2,2,15],[35,25,15],[8,52,1],[-1,25,2],[23,3,6],[6,8,8],[-15,2,2],[15,15,2],[3,3,6]]\n",
        "\n",
        "* Grave o resultado no arquivo 'predictions.txt', uma predição por lina.\n",
        "\n",
        "2 - Execute as tarefas abaixo:\n",
        "\n",
        "* Abra o arquivo 'lorem.txt' no modo leitura.\n",
        "* Quebre o texto em palavras e monte uma lista com elas.\n",
        "* Elimine das palavras os caracteres abaixo:\n",
        "\n",
        "to_remove = [',','.','\\n\\n']\n",
        "\n",
        "* Avalie o tamanho de cada uma das palavras.\n",
        "* Elimine todas as palavras com tamanho menor que 4 caracteres.\n",
        "* As palavras com tamanho maior ou igual a 4 caracteres devem ser concatenadas com a palavra imediatamente posterior (a primeira palavra deverá ser concatenada com a palavra 'first_' e a última com '_last'). Exemplo:\n",
        "\n",
        "antes = ['lorem','ipsum','lorem','lorem']\n",
        "depois ['first_lorem','ipsum_lorem','lorem_lorem','lorem_last']\n",
        "\n",
        "* Grave o resultado no arquivo 'lorem_altered.txt' em formato de texto.\n",
        "\n",
        "3 - Execute as tarefas abaixo:\n",
        "\n",
        "* Abra o arquivo 'avocado.csv'.\n",
        "* Responda: qual é a média de preço do ano de 2015 (dica: use as colunas AveragePrice e Year).\n",
        "* Escreva o arquivo 'avocado_15.csv' contendo somente as colunas 'Date' e 'AveragePrice' com os dados do ano de 2015."
      ]
    },
    {
      "cell_type": "code",
      "metadata": {
        "id": "6srz72b1_fZc",
        "colab_type": "code",
        "outputId": "deb02c59-82f7-406a-e7e9-bde48a416b8c",
        "colab": {
          "base_uri": "https://localhost:8080/",
          "height": 243
        }
      },
      "source": [
        "ls = [[12,12,19],[17,15,5],[25,13,13],[15,15,15],[2,2,15],[35,25,15],[8,52,1],[-1,25,2],[23,3,6],[6,8,8],[-15,2,2],[15,15,2],[3,3,6]]\n",
        "\n",
        "def modelo(x,y,z):\n",
        "  return (122*x)+(-0.85*y)+(-39*z)+23\n",
        "with open('predictions.txt', 'w') as f:\n",
        "  for line in ls:\n",
        "    f.write(f'{modelo(line[0],line[1],line[2])}\\n')"
      ],
      "execution_count": 0,
      "outputs": [
        {
          "output_type": "stream",
          "text": [
            "735.8\n",
            "1889.25\n",
            "2554.95\n",
            "1255.25\n",
            "-319.7\n",
            "3686.75\n",
            "915.8\n",
            "-198.25\n",
            "2592.45\n",
            "436.20000000000005\n",
            "-1886.7\n",
            "1762.25\n",
            "152.45\n"
          ],
          "name": "stdout"
        }
      ]
    },
    {
      "cell_type": "code",
      "metadata": {
        "id": "OZinGIhMAhiP",
        "colab_type": "code",
        "outputId": "912ac8c4-761a-4694-ec44-b14735fb1157",
        "colab": {
          "base_uri": "https://localhost:8080/",
          "height": 469
        }
      },
      "source": [
        "with open('predictions.txt', 'r') as f:\n",
        "  content = f.readlines()\n",
        "  for i in content:\n",
        "    print(i)"
      ],
      "execution_count": 0,
      "outputs": [
        {
          "output_type": "stream",
          "text": [
            "735.8\n",
            "\n",
            "1889.25\n",
            "\n",
            "2554.95\n",
            "\n",
            "1255.25\n",
            "\n",
            "-319.7\n",
            "\n",
            "3686.75\n",
            "\n",
            "915.8\n",
            "\n",
            "-198.25\n",
            "\n",
            "2592.45\n",
            "\n",
            "436.20000000000005\n",
            "\n",
            "-1886.7\n",
            "\n",
            "1762.25\n",
            "\n",
            "152.45\n",
            "\n"
          ],
          "name": "stdout"
        }
      ]
    },
    {
      "cell_type": "code",
      "metadata": {
        "id": "fDMUbA-uDL7D",
        "colab_type": "code",
        "outputId": "3d2441e7-e58f-4a1c-d1e8-e5fc505a1c38",
        "colab": {
          "base_uri": "https://localhost:8080/",
          "height": 54
        }
      },
      "source": [
        "words = []\n",
        "to_remove = [',','.','\\n\\n']\n",
        "# Abra o arquivo 'lorem.txt' no modo leitura.\n",
        "with open('lorem.txt', 'r') as f:\n",
        "  # Quebre o texto em palavras e monte uma lista com elas.\n",
        "  for line in f:\n",
        "    l = line.split()\n",
        "    words += l\n",
        "\n",
        "# Elimine das palavras os caracteres: to_remove = [',','.','\\n\\n']\n",
        "for remove in to_remove:\n",
        "  words = [w.replace(remove, '') for w in words]\n",
        "\n",
        "# Avalie o tamanho de cada uma das palavras.\n",
        "words_to_remove = []\n",
        "for word in words:\n",
        "  if len(word) < 5:\n",
        "    words_to_remove.append(word)\n",
        "\n",
        "# Elimine todas as palavras com tamanho menor que 4 caracteres.\n",
        "for remove in words_to_remove:\n",
        "  words.remove(remove)\n",
        "\n",
        "print(words)\n",
        "\n",
        "    \n",
        "    \n",
        "\n",
        "\n",
        "\n",
        "    \n",
        "    \n",
        "    # As palavras com tamanho maior ou igual a 4 caracteres devem ser concatenadas com a palavra imediatamente posterior (a primeira palavra deverá ser concatenada com a palavra 'first_' e a última com '_last'). Exemplo: antes = ['lorem','ipsum','lorem','lorem'] depois ['first_lorem','ipsum_lorem','lorem_lorem','lorem_last']\n",
        "    #Grave o resultado no arquivo 'lorem_altered.txt' em formato de texto.\n"
      ],
      "execution_count": 0,
      "outputs": [
        {
          "output_type": "stream",
          "text": [
            "['Lorem', 'ipsum', 'dolor', 'consectetur', 'adipiscing', 'Aliquam', 'sagittis', 'massa', 'euismod', 'Aenean', 'mattis', 'Vestibulum', 'imperdiet', 'lacus', 'hendrerit', 'justo', 'maximus', 'convallis', 'placerat', 'purus', 'vulputate', 'varius', 'libero', 'Fusce', 'dolor', 'dictum', 'mattis', 'Donec', 'finibus', 'pellentesque', 'ligula', 'semper', 'tellus', 'varius', 'maximus', 'rutrum', 'vitae', 'suscipit', 'varius', 'natoque', 'penatibus', 'magnis', 'parturient', 'montes', 'nascetur', 'ridiculus', 'Nullam', 'laoreet', 'dolor', 'felis', 'tincidunt', 'dignissim', 'Suspendisse', 'lacinia', 'accumsan', 'risus', 'vitae', 'rhoncus', 'Nulla', 'luctus', 'convallis', 'blandit', 'dignissim', 'Pellentesque', 'pharetra', 'ornare', 'efficitur', 'molestie', 'tristique', 'ullamcorper', 'purus', 'nulla', 'accumsan', 'lobortis', 'purus', 'magna', 'risus', 'magna', 'ipsum', 'accumsan', 'purus', 'tincidunt', 'feugiat', 'Proin', 'laoreet', 'velit', 'ullamcorper', 'varius', 'pharetra', 'lacus', 'imperdiet', 'suscipit', 'Donec', 'lectus', 'fermentum', 'maximus', 'Quisque', 'tempus', 'ultricies', 'lacus', 'condimentum', 'efficitur', 'Quisque', 'metus', 'eleifend', 'eleifend', 'Fusce', 'semper', 'lobortis', 'consequat', 'Praesent', 'condimentum', 'pulvinar', 'scelerisque', 'Pellentesque', 'habitant', 'morbi', 'tristique', 'senectus', 'netus', 'malesuada', 'fames', 'turpis', 'egestas', 'maximus', 'lacus', 'eleifend', 'ligula', 'Integer', 'elementum', 'interdum', 'pharetra', 'neque', 'lacinia', 'Donec', 'scelerisque', 'velit', 'justo', 'sagittis', 'commodo', 'viverra', 'Vivamus', 'viverra', 'vehicula', 'scelerisque', 'Donec', 'suscipit', 'ligula', 'Nullam', 'condimentum', 'semper', 'accumsan', 'justo', 'consectetur', 'Quisque', 'ultrices', 'risus', 'tortor', 'tincidunt', 'accumsan', 'Curabitur', 'aliquam', 'aliquam', 'lacinia', 'Maecenas', 'felis', 'ultrices', 'suscipit', 'Integer', 'purus', 'tortor', 'tincidunt', 'augue', 'vitae', 'elementum', 'cursus', 'massa', 'metus', 'mauris', 'vulputate', 'sapien', 'Maecenas', 'efficitur', 'metus', 'venenatis', 'purus', 'Aliquam', 'facilisis', 'placerat', 'lorem', 'porttitor', 'purus', 'velit', 'ultrices', 'felis', 'pharetra', 'Mauris', 'tristique', 'ultrices', 'velit', 'Fusce', 'vitae', 'ultrices', 'tristique', 'Nullam', 'dictum', 'commodo', 'sapien', 'tincidunt', 'lectus', 'Maecenas', 'viverra', 'convallis', 'vulputate', 'augue', 'mattis', 'Curabitur', 'lorem', 'ligula', 'Pellentesque', 'lectus', 'libero', 'porttitor', 'sapien', 'ullamcorper', 'Vestibulum', 'viverra', 'dictum', 'Nullam', 'elementum', 'Fusce', 'ultrices', 'neque', 'ullamcorper', 'convallis', 'pulvinar', 'Pellentesque', 'posuere', 'tincidunt', 'tempor', 'euismod', 'ipsum', 'faucibus', 'vitae', 'Proin', 'lectus', 'ipsum', 'commodo', 'fringilla', 'vitae', 'efficitur', 'neque', 'luctus', 'cursus', 'dignissim', 'Curabitur', 'eleifend', 'purus', 'mollis', 'mauris', 'lacinia', 'purus', 'Nulla', 'rhoncus', 'blandit', 'luctus', 'augue', 'Vivamus', 'ullamcorper', 'mauris', 'dignissim', 'vulputate', 'Fusce', 'ornare', 'ipsum', 'cursus', 'commodo', 'ornare', 'Aliquam', 'dolor', 'ligula', 'interdum', 'malesuada', 'accumsan', 'purus', 'Aliquam', 'consectetur', 'malesuada', 'pulvinar', 'Morbi', 'libero', 'turpis', 'Vivamus', 'velit', 'vitae', 'faucibus', 'vehicula']\n"
          ],
          "name": "stdout"
        }
      ]
    }
  ]
}