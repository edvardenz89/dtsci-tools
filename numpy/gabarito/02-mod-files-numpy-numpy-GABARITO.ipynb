{
 "cells": [
  {
   "cell_type": "markdown",
   "metadata": {},
   "source": [
    "## Exercícios\n",
    "\n",
    "1 - Crie um array de uma dimensão chamado arr com todos os valores inteiros entre 1 e 50.\n",
    "\n",
    "2 - Usando o array criado acima multiple todos os valores impares por -1.\n",
    "\n",
    "3 - Transforme arr em um array de duas dimensões (dica, use reshape).\n",
    "\n",
    "4 - Descubra: a média, mediana, o desvio padrão, o valor do primeiro quartil, o valor do terceiro quartil e o IQR do array arr.\n",
    "\n",
    "5 - Encontre a média do array abaixo:\n",
    "\n",
    "arr2 = np.array([[12,12,12],[15,15,15],[20,20,20]])\n",
    "\n",
    "6 - Monte um código que transforme a lista abaixo em um array de duas dimensões. Depois disso ele deve substituir os valores na diagonal da matriz por zero.\n",
    "\n",
    "ls = [[3,3,3],[2,2,2],[1,1,1]]"
   ]
  },
  {
   "cell_type": "code",
   "execution_count": 120,
   "metadata": {},
   "outputs": [],
   "source": [
    "import numpy as np"
   ]
  },
  {
   "cell_type": "code",
   "execution_count": 131,
   "metadata": {},
   "outputs": [
    {
     "data": {
      "text/plain": [
       "array([ 1,  2,  3,  4,  5,  6,  7,  8,  9, 10, 11, 12, 13, 14, 15, 16, 17,\n",
       "       18, 19, 20, 21, 22, 23, 24, 25, 26, 27, 28, 29, 30, 31, 32, 33, 34,\n",
       "       35, 36, 37, 38, 39, 40, 41, 42, 43, 44, 45, 46, 47, 48, 49, 50])"
      ]
     },
     "execution_count": 131,
     "metadata": {},
     "output_type": "execute_result"
    }
   ],
   "source": [
    "## Questão 1\n",
    "\n",
    "arr = np.arange(1,51)\n",
    "arr"
   ]
  },
  {
   "cell_type": "code",
   "execution_count": 132,
   "metadata": {},
   "outputs": [
    {
     "data": {
      "text/plain": [
       "array([ -1,   2,  -3,   4,  -5,   6,  -7,   8,  -9,  10, -11,  12, -13,\n",
       "        14, -15,  16, -17,  18, -19,  20, -21,  22, -23,  24, -25,  26,\n",
       "       -27,  28, -29,  30, -31,  32, -33,  34, -35,  36, -37,  38, -39,\n",
       "        40, -41,  42, -43,  44, -45,  46, -47,  48, -49,  50])"
      ]
     },
     "execution_count": 132,
     "metadata": {},
     "output_type": "execute_result"
    }
   ],
   "source": [
    "## Questão 2\n",
    "\n",
    "for i,value in enumerate(arr):\n",
    "    if value % 2 != 0:\n",
    "        arr[i] = value*-1\n",
    "        \n",
    "arr"
   ]
  },
  {
   "cell_type": "code",
   "execution_count": 133,
   "metadata": {},
   "outputs": [
    {
     "data": {
      "text/plain": [
       "array([[ -1,   2],\n",
       "       [ -3,   4],\n",
       "       [ -5,   6],\n",
       "       [ -7,   8],\n",
       "       [ -9,  10],\n",
       "       [-11,  12],\n",
       "       [-13,  14],\n",
       "       [-15,  16],\n",
       "       [-17,  18],\n",
       "       [-19,  20],\n",
       "       [-21,  22],\n",
       "       [-23,  24],\n",
       "       [-25,  26],\n",
       "       [-27,  28],\n",
       "       [-29,  30],\n",
       "       [-31,  32],\n",
       "       [-33,  34],\n",
       "       [-35,  36],\n",
       "       [-37,  38],\n",
       "       [-39,  40],\n",
       "       [-41,  42],\n",
       "       [-43,  44],\n",
       "       [-45,  46],\n",
       "       [-47,  48],\n",
       "       [-49,  50]])"
      ]
     },
     "execution_count": 133,
     "metadata": {},
     "output_type": "execute_result"
    }
   ],
   "source": [
    "## Questão 3\n",
    "\n",
    "arr = arr.reshape(25,2)\n",
    "arr"
   ]
  },
  {
   "cell_type": "code",
   "execution_count": 139,
   "metadata": {},
   "outputs": [
    {
     "name": "stdout",
     "output_type": "stream",
     "text": [
      "Media:0.5\n",
      "Mediana:0.5\n",
      "Desvio Padrão:29.295904150580505\n",
      "Quartil 1:-24.5\n",
      "Quartil 3:25.5\n",
      "IQR:50.0\n"
     ]
    }
   ],
   "source": [
    "## Questão 4\n",
    "\n",
    "media = arr.mean()\n",
    "mediana = np.quantile(arr,0.5)\n",
    "desvio = arr.std()\n",
    "\n",
    "qart1 = np.quantile(arr,0.25)\n",
    "qart3 = np.quantile(arr,0.75)\n",
    "\n",
    "iqr = qart3 - qart1\n",
    "\n",
    "\n",
    "print(f'Media:{media}\\nMediana:{mediana}\\nDesvio Padrão:{desvio}\\nQuartil 1:{qart1}\\nQuartil 3:{qart3}\\nIQR:{iqr}')"
   ]
  },
  {
   "cell_type": "code",
   "execution_count": 142,
   "metadata": {},
   "outputs": [
    {
     "data": {
      "text/plain": [
       "15.666666666666666"
      ]
     },
     "execution_count": 142,
     "metadata": {},
     "output_type": "execute_result"
    }
   ],
   "source": [
    "## Questão 5\n",
    "\n",
    "arr2 = np.array([[12,12,12],[15,15,15],[20,20,20]])\n",
    "\n",
    "arr2.mean()"
   ]
  },
  {
   "cell_type": "code",
   "execution_count": 143,
   "metadata": {},
   "outputs": [],
   "source": [
    "## Questão 6\n",
    "\n",
    "ls = [[3,3,3],[2,2,2],[1,1,1]]\n",
    "\n",
    "def diag_zero(ls):\n",
    "    arr = np.array(ls)\n",
    "    \n",
    "    for i,value in enumerate(arr):\n",
    "        arr[i][i] = 0\n",
    "        \n",
    "    return arr"
   ]
  },
  {
   "cell_type": "code",
   "execution_count": 144,
   "metadata": {},
   "outputs": [
    {
     "data": {
      "text/plain": [
       "array([[0, 3, 3],\n",
       "       [2, 0, 2],\n",
       "       [1, 1, 0]])"
      ]
     },
     "execution_count": 144,
     "metadata": {},
     "output_type": "execute_result"
    }
   ],
   "source": [
    "diag_zero(ls)"
   ]
  },
  {
   "cell_type": "code",
   "execution_count": null,
   "metadata": {},
   "outputs": [],
   "source": []
  },
  {
   "cell_type": "code",
   "execution_count": null,
   "metadata": {},
   "outputs": [],
   "source": []
  }
 ],
 "metadata": {
  "kernelspec": {
   "display_name": "Python 3.7.5 64-bit ('base': conda)",
   "language": "python",
   "name": "python37564bitbaseconda1a5ffbacdca64cf4afc92f2f5ef3faed"
  },
  "language_info": {
   "codemirror_mode": {
    "name": "ipython",
    "version": 3
   },
   "file_extension": ".py",
   "mimetype": "text/x-python",
   "name": "python",
   "nbconvert_exporter": "python",
   "pygments_lexer": "ipython3",
   "version": "3.7.5"
  }
 },
 "nbformat": 4,
 "nbformat_minor": 4
}
