{
 "cells": [
  {
   "cell_type": "markdown",
   "metadata": {},
   "source": [
    "# Exercícios\n",
    "\n",
    "___\n",
    "\n",
    "1 - Execute as tarefas abaixo:\n",
    "\n",
    "* Crie um arquivo chamado 'predictions.txt' no modo de escrita;\n",
    "* Crie um código que execute as predições de um modelo, fictício, de regressão. Levando em consideração a seguinte fórmula f(x,y,z) = (122*x)+(-0.85*y)+(-39*z)+23;\n",
    "* Utilize o código acima para gerar predições utilizando a lista de listas abaixo:\n",
    "\n",
    "ls = [[12,12,19],[17,15,5],[25,13,13],[15,15,15],[2,2,15],[35,25,15],[8,52,1],[-1,25,2],[23,3,6],[6,8,8],[-15,2,2],[15,15,2],[3,3,6]]\n",
    "\n",
    "* Grave o resultado no arquivo 'predictions.txt', uma predição por lina.\n",
    "\n",
    "2 - Execute as tarefas abaixo:\n",
    "\n",
    "* Abra o arquivo 'lorem.txt' no modo leitura.\n",
    "* Quebre o texto em palavras e monte uma lista com elas.\n",
    "* Elimine das palavras os caracteres abaixo:\n",
    "\n",
    "to_remove = [',','.','\\n\\n']\n",
    "\n",
    "* Avalie o tamanho de cada uma das palavras.\n",
    "* Elimine todas as palavras com tamanho menor que 4 caracteres.\n",
    "* As palavras com tamanho maior ou igual a 4 caracteres devem ser concatenadas com a palavra imediatamente posterior (a primeira palavra deverá ser concatenada com a palavra 'first_' e a última com '_last'). Exemplo:\n",
    "\n",
    "antes = ['lorem','ipsum','lorem','lorem']\n",
    "depois ['first_lorem','ipsum_lorem','lorem_lorem','lorem_last']\n",
    "\n",
    "* Grave o resultado no arquivo 'lorem_altered.txt' em formato de texto.\n",
    "\n",
    "3 - Execute as tarefas abaixo:\n",
    "\n",
    "* Abra o arquivo 'avocado.csv'.\n",
    "* Responda: qual é a média de preço do ano de 2015 (dica: use as colunas AveragePrice e Year).\n",
    "* Escreva o arquivo 'avocado_15.csv' contendo somente as colunas 'Date' e 'AveragePrice' com os dados do ano de 2015."
   ]
  },
  {
   "cell_type": "code",
   "execution_count": 13,
   "metadata": {},
   "outputs": [],
   "source": [
    "## Questão 1\n",
    "\n",
    "ls = [[12,12,19],[17,15,5],[25,13,13],[15,15,15],[2,2,15],[35,25,15],[8,52,1],[-1,25,2],[23,3,6],[6,8,8],[-15,2,2],[15,15,2],[3,3,6]]\n",
    "\n",
    "def prediction(value_list):\n",
    "    \n",
    "    x,y,z = value_list\n",
    "    \n",
    "    return ((122*x)+(-0.85*y)+(-39*z)+23)\n",
    "\n",
    "\n",
    "with open('predictions.txt','w') as file:\n",
    "    for value in ls:\n",
    "        file.write(f'{prediction(value)}\\n')    "
   ]
  },
  {
   "cell_type": "code",
   "execution_count": 23,
   "metadata": {},
   "outputs": [],
   "source": [
    "## Questão 2\n",
    "\n",
    "content_new = []\n",
    "\n",
    "content_final = []\n",
    "\n",
    "with open('lorem.txt','r') as file:\n",
    "    contents = file.read()\n",
    "    contents = contents.split(' ')\n",
    "    \n",
    "    for word in contents:\n",
    "        word = word.replace(',','')\n",
    "        word = word.replace('.','')\n",
    "        word = word.replace('\\n\\n','')\n",
    "        \n",
    "        if len(word) >= 4:\n",
    "            content_new.append(word)\n",
    "\n",
    "for i in range(len(content_new)):\n",
    "    if i == 0:\n",
    "        content_final.append('first_'+content_new[i])\n",
    "    elif i == max(list(range(len(content_new)))):\n",
    "        content_final.append(content_new[i]+'_last')\n",
    "    else:\n",
    "        content_final.append(content_new[i]+'_'+content_new[i+1])\n",
    "        \n",
    "with open('lorem_altered.txt','w') as file:\n",
    "    for word in content_final:\n",
    "        file.write(word+' ')"
   ]
  },
  {
   "cell_type": "code",
   "execution_count": 40,
   "metadata": {},
   "outputs": [
    {
     "name": "stdout",
     "output_type": "stream",
     "text": [
      "O preço médio em 2015 foi 1.3755903829029397.\n"
     ]
    }
   ],
   "source": [
    "## Questão 3\n",
    "\n",
    "import csv\n",
    "\n",
    "price2015 = []\n",
    "\n",
    "final = []\n",
    "\n",
    "with open('avocado.csv','r') as csv_file:\n",
    "    csv_reader = csv.reader(csv_file,delimiter=',')\n",
    "    \n",
    "    next(csv_reader)\n",
    "    \n",
    "    for row in csv_reader:\n",
    "        if row[12] == '2015':\n",
    "            \n",
    "            final.append([row[1],row[2]])\n",
    "            price2015.append(float(row[2]))\n",
    "            \n",
    "print(f'O preço médio em 2015 foi {sum(price2015)/len(price2015)}.')\n",
    "\n",
    "with open('avocado_15.csv','w') as new_file:\n",
    "    writer = csv.writer(new_file,delimiter=',')\n",
    "    \n",
    "    writer.writerow(['date','avgprice'])\n",
    "    \n",
    "    for value in final:\n",
    "        writer.writerow(value)"
   ]
  }
 ],
 "metadata": {
  "kernelspec": {
   "display_name": "Python 3.7.5 64-bit ('miniconda3': virtualenv)",
   "language": "python",
   "name": "python37564bitminiconda3virtualenvaae6906fdf41426e8b8c7cdd03524cfb"
  },
  "language_info": {
   "codemirror_mode": {
    "name": "ipython",
    "version": 3
   },
   "file_extension": ".py",
   "mimetype": "text/x-python",
   "name": "python",
   "nbconvert_exporter": "python",
   "pygments_lexer": "ipython3",
   "version": "3.7.5"
  }
 },
 "nbformat": 4,
 "nbformat_minor": 4
}
